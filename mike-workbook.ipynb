{
 "cells": [
  {
   "cell_type": "code",
   "execution_count": 1,
   "metadata": {},
   "outputs": [],
   "source": [
    "import pandas as pd\n",
    "import json\n",
    "import random"
   ]
  },
  {
   "cell_type": "code",
   "execution_count": 3,
   "metadata": {},
   "outputs": [],
   "source": [
    "# look at parkay files\n",
    "\n",
    "#df=pd.read_csv('data\\Appliances.jsonl')\n",
    "data = []\n",
    "file = 'data\\Appliances.jsonl'\n",
    "with open(file, 'r') as fp:\n",
    "    for line in fp:\n",
    "        data.append(json.loads(line.strip()))"
   ]
  },
  {
   "cell_type": "code",
   "execution_count": 5,
   "metadata": {},
   "outputs": [],
   "source": [
    "meta_data = []\n",
    "file = 'data\\meta_Appliances.jsonl'\n",
    "with open(file, 'r') as fp:\n",
    "    for line in fp:\n",
    "        meta_data.append(json.loads(line.strip()))"
   ]
  },
  {
   "cell_type": "code",
   "execution_count": 9,
   "metadata": {},
   "outputs": [
    {
     "name": "stdout",
     "output_type": "stream",
     "text": [
      "data length:  2128605\n",
      "meta data lenth:  94327\n"
     ]
    }
   ],
   "source": [
    "print(\"data length: \", len(data))\n",
    "print(\"meta data lenth: \", len(meta_data))"
   ]
  },
  {
   "cell_type": "code",
   "execution_count": 37,
   "metadata": {},
   "outputs": [],
   "source": [
    "def split_list(data, chunk_size):\n",
    "    # Shuffle the data randomly\n",
    "    random.shuffle(data)\n",
    "    \n",
    "    # Split the list into chunks of specified size\n",
    "    return [data[i:i + chunk_size] for i in range(0, len(data), chunk_size)]\n",
    "\n",
    "smaller_lists_appliances = split_list(data, 200000)\n",
    "smaller_lists_meta = split_list(meta_data, 30000)\n"
   ]
  },
  {
   "cell_type": "code",
   "execution_count": 29,
   "metadata": {},
   "outputs": [
    {
     "data": {
      "text/plain": [
       "11"
      ]
     },
     "execution_count": 29,
     "metadata": {},
     "output_type": "execute_result"
    }
   ],
   "source": [
    "len(smaller_lists_appliances)\n"
   ]
  },
  {
   "cell_type": "code",
   "execution_count": 33,
   "metadata": {},
   "outputs": [],
   "source": [
    "# save smaller appliance files\n",
    "for i, chunk in enumerate(smaller_lists_appliances):\n",
    "    # Define the filename for each chunk (e.g., \"list_1.txt\", \"list_2.txt\", etc.)\n",
    "    filename = f'data\\Appliances_{i+1}.txt'\n",
    "    with open(filename, 'w') as file:\n",
    "        # Write each item from the list to a new line in the file\n",
    "        file.write('\\n'.join(map(str, chunk)))"
   ]
  },
  {
   "cell_type": "code",
   "execution_count": 38,
   "metadata": {},
   "outputs": [],
   "source": [
    "# save smaller meta files \n",
    "for i, chunk in enumerate(smaller_lists_meta):\n",
    "    # Define the filename for each chunk (e.g., \"list_1.txt\", \"list_2.txt\", etc.)\n",
    "    filename = f'data\\meta_{i+1}.txt'\n",
    "    with open(filename, 'w') as file:\n",
    "        # Write each item from the list to a new line in the file\n",
    "        file.write('\\n'.join(map(str, chunk)))"
   ]
  },
  {
   "cell_type": "code",
   "execution_count": null,
   "metadata": {},
   "outputs": [],
   "source": [
    "# polar, query in a lazer frame\n",
    "\n",
    "filename = 'filename.csv'\n",
    "chunksize = 10 ** 6\n",
    "chunk_list = []\n",
    "for chunk in pd.read_csv(filename, chunksize=chunksize, error_bad_lines=False):\n",
    "    chunk_list.append(chunk)\n",
    "    \n",
    "df = pd.concat(chunk_list)"
   ]
  },
  {
   "cell_type": "code",
   "execution_count": 6,
   "metadata": {},
   "outputs": [],
   "source": [
    "# read in smaller files\n",
    "with open('data\\Appliances_1.txt', 'r') as file:\n",
    "    appliances = file.read().splitlines()  \n",
    "with open('data\\meta_1.txt', 'r') as file:\n",
    "    meta = file.read().splitlines()  \n"
   ]
  },
  {
   "cell_type": "code",
   "execution_count": null,
   "metadata": {},
   "outputs": [],
   "source": []
  }
 ],
 "metadata": {
  "kernelspec": {
   "display_name": "dev",
   "language": "python",
   "name": "python3"
  },
  "language_info": {
   "codemirror_mode": {
    "name": "ipython",
    "version": 3
   },
   "file_extension": ".py",
   "mimetype": "text/x-python",
   "name": "python",
   "nbconvert_exporter": "python",
   "pygments_lexer": "ipython3",
   "version": "3.10.14"
  }
 },
 "nbformat": 4,
 "nbformat_minor": 2
}
